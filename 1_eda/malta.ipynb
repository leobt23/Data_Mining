{
 "cells": [
  {
   "cell_type": "code",
   "execution_count": null,
   "metadata": {},
   "outputs": [],
   "source": [
    "import pandas as pd\n",
    "import numpy as np\n",
    "import matplotlib.pyplot as plt\n",
    "import seaborn as sns"
   ]
  },
  {
   "cell_type": "code",
   "execution_count": null,
   "metadata": {},
   "outputs": [],
   "source": [
    "# load data\n",
    "df = pd.read_csv('in-vehicle-coupon-recommendation.csv')\n"
   ]
  },
  {
   "cell_type": "code",
   "execution_count": null,
   "metadata": {},
   "outputs": [],
   "source": [
    "# Show index of duplicates\n",
    "df_duplicate_analisys = df[df.duplicated(keep=False)]\n",
    "\n",
    "def remove_dup(df: pd.DataFrame):\n",
    "    # Now remove duplicates\n",
    "    df = df.drop_duplicates()\n",
    "    return df\n"
   ]
  },
  {
   "cell_type": "code",
   "execution_count": null,
   "metadata": {},
   "outputs": [],
   "source": [
    "# Value mapping\n",
    "\n",
    "def value_mapping(df: pd.DataFrame):\n",
    "    frequency_map = {'never': 0,'less1': 1,'1~3': 2,'4~8': 3,'gt8': 4}\n",
    "    age_map = {'below21': 0,'21': 1,'26': 2,'31': 3,'36': 4,'41': 5,'46': 6,'50plus': 7}\n",
    "    income_map = {'Less than $12500': 0,'$12500 - $24999': 1,'$25000 - $37499': 2,'$37500 - $49999': 3,\n",
    "    '$50000 - $62499': 4,'$62500 - $74999': 5,'$75000 - $87499': 6,'$87500 - $99999': 7,'$100000 or More': 8}\n",
    "    temperature_map = {30: 0,55: 1,80: 2}\n",
    "\n",
    "    # CoffeeHouse, CarryAway, RestaurantLessThan20, Restaurant20To50, Bar\n",
    "    df['CoffeeHouse'] = df['CoffeeHouse'].map(frequency_map)\n",
    "    df['CarryAway'] = df['CarryAway'].map(frequency_map)\n",
    "    df['RestaurantLessThan20'] = df['RestaurantLessThan20'].map(frequency_map)\n",
    "    df['Restaurant20To50'] = df['Restaurant20To50'].map(frequency_map)\n",
    "    df['Bar'] = df['Bar'].map(frequency_map)\n",
    "\n",
    "    #age\n",
    "    df['age'] = df['age'].map(age_map)\n",
    "\n",
    "    #income \n",
    "    df['income'] = df['income'].map(income_map)\n",
    "\n",
    "    #temperature\n",
    "    df['temperature'] = df['temperature'].map(temperature_map)\n",
    "\n",
    "    return df\n"
   ]
  },
  {
   "cell_type": "code",
   "execution_count": null,
   "metadata": {},
   "outputs": [],
   "source": [
    "# Drop columns\n",
    "\n",
    "def drop_columns(df: pd.DataFrame):\n",
    "    df = df.drop(columns=['car'])\n",
    "    #df = df.drop(columns=['toCoupon_GEQ5min'])\n",
    "    df = df.drop(columns=['direction_opp'])\n",
    "    return df"
   ]
  },
  {
   "cell_type": "code",
   "execution_count": null,
   "metadata": {},
   "outputs": [],
   "source": [
    "# combine toCoupon_GEQ5min’, toCoupon_GEQ15min’ and ‘toCoupon_GEQ25min’ into one column 0, 1, 2 values\n",
    "\n",
    "#0: driving distance is less than or equal to 15 min\n",
    "#1: driving distance is greater than 15 min and less than or equal to 25 min\n",
    "#2: driving distance is greater than 25 min\n",
    "\n",
    "def combine_distance_columns(df):\n",
    "    \"\"\"\n",
    "    Combine 'toCoupon_GEQ5min', 'toCoupon_GEQ15min', and 'toCoupon_GEQ25min' \n",
    "    columns into a single column 'to_coupon'.\n",
    "    \n",
    "    Parameters:\n",
    "    - df (pd.DataFrame): The input dataframe\n",
    "    \n",
    "    Returns:\n",
    "    - df (pd.DataFrame): The modified dataframe with the 'to_coupon' column\n",
    "    \"\"\"\n",
    "    \n",
    "    def assign_to_coupon(row):\n",
    "        if row['toCoupon_GEQ25min'] == 1:\n",
    "            return 2\n",
    "        elif row['toCoupon_GEQ15min'] == 1:\n",
    "            return 1\n",
    "        else:\n",
    "            return 0\n",
    "\n",
    "    # add the new column at penultimate position (before 'Y')\n",
    "    df.insert(len(df.columns) - 1, 'to_coupon', np.nan)\n",
    "    df['to_coupon'] = df.apply(assign_to_coupon, axis=1)\n",
    "\n",
    "    # Drop the original columns\n",
    "    df.drop(['toCoupon_GEQ5min', 'toCoupon_GEQ15min', 'toCoupon_GEQ25min'], axis=1, inplace=True)\n",
    "    \n",
    "    return df\n"
   ]
  },
  {
   "cell_type": "code",
   "execution_count": null,
   "metadata": {},
   "outputs": [],
   "source": [
    "df_test1 = df.copy()\n",
    "\n",
    "df_test1 = remove_dup(df_test1)\n",
    "df_test1 = value_mapping(df_test1)\n",
    "df_test1 = drop_columns(df_test1)\n",
    "df_test1 = combine_distance_columns(df_test1)"
   ]
  }
 ],
 "metadata": {
  "language_info": {
   "name": "python"
  }
 },
 "nbformat": 4,
 "nbformat_minor": 2
}
