{
 "cells": [
  {
   "cell_type": "markdown",
   "metadata": {},
   "source": [
    "# 1"
   ]
  },
  {
   "cell_type": "code",
   "execution_count": null,
   "metadata": {},
   "outputs": [],
   "source": [
    "import pandas as pd\n",
    "import numpy as np\n",
    "import matplotlib.pyplot as plt\n",
    "import seaborn as sns"
   ]
  },
  {
   "cell_type": "code",
   "execution_count": null,
   "metadata": {},
   "outputs": [],
   "source": [
    "# load data\n",
    "data = pd.read_csv('in-vehicle-coupon-recommendation.csv')"
   ]
  },
  {
   "cell_type": "code",
   "execution_count": null,
   "metadata": {},
   "outputs": [],
   "source": [
    "# Display the first few rows of the dataset\n",
    "data_head = data.head()\n",
    "\n",
    "# Get the shape of the dataset\n",
    "data_shape = data.shape\n",
    "\n",
    "data_head, data_shape\n"
   ]
  },
  {
   "cell_type": "code",
   "execution_count": null,
   "metadata": {},
   "outputs": [],
   "source": [
    "# Basic statistics\n",
    "data_description = data.describe(include='all')\n",
    "\n",
    "data_description"
   ]
  },
  {
   "cell_type": "code",
   "execution_count": null,
   "metadata": {},
   "outputs": [],
   "source": [
    "# Balance of the dataset\n",
    "data['Y'].value_counts()\n",
    "\n",
    "# graph\n",
    "sns.countplot(x='Y', data=data, palette='hls')"
   ]
  },
  {
   "cell_type": "code",
   "execution_count": null,
   "metadata": {},
   "outputs": [],
   "source": [
    "import matplotlib.pyplot as plt\n",
    "import seaborn as sns\n",
    "\n",
    "# List of columns to visualize\n",
    "columns_to_visualize = ['destination', 'passanger', 'weather', 'coupon', 'gender']\n",
    "\n",
    "plt.figure(figsize=(20, 12))\n",
    "\n",
    "# Plotting the distribution of the selected columns\n",
    "for i, column in enumerate(columns_to_visualize, 1):\n",
    "    plt.subplot(2, 3, i)\n",
    "    sns.countplot(data=data, y=column, order=data[column].value_counts().index)\n",
    "    plt.title(f'Distribution of {column}')\n",
    "    plt.xlabel('Count')\n",
    "    plt.ylabel(column)\n",
    "    plt.tight_layout()\n",
    "\n",
    "plt.show()\n"
   ]
  },
  {
   "cell_type": "code",
   "execution_count": null,
   "metadata": {},
   "outputs": [],
   "source": [
    "# Visualize the distribution of the 'temperature' column\n",
    "plt.figure(figsize=(10, 6))\n",
    "sns.histplot(data['temperature'], kde=True, bins=30)\n",
    "plt.title('Distribution of Temperature')\n",
    "plt.xlabel('Temperature (°F)')\n",
    "plt.ylabel('Frequency')\n",
    "plt.show()"
   ]
  },
  {
   "cell_type": "code",
   "execution_count": null,
   "metadata": {},
   "outputs": [],
   "source": [
    "# List of numerical columns for correlation analysis\n",
    "\n",
    "# Compute the correlation matrix\n",
    "correlation_matrix = data.corr()\n",
    "\n",
    "# Plot the heatmap\n",
    "plt.figure(figsize=(10, 6))\n",
    "sns.heatmap(correlation_matrix, annot=True, cmap='coolwarm', vmin=-1, vmax=1)\n",
    "plt.title('Correlation Matrix')\n",
    "plt.show()"
   ]
  },
  {
   "cell_type": "markdown",
   "metadata": {},
   "source": [
    "# Case 1: Imputation with the highest count"
   ]
  },
  {
   "cell_type": "code",
   "execution_count": null,
   "metadata": {},
   "outputs": [],
   "source": [
    "number_nans_car = data['car'].isna().sum()\n",
    "number_nans_car/len(data['car'])"
   ]
  },
  {
   "cell_type": "markdown",
   "metadata": {},
   "source": [
    "As it is clear, the column 'car' has too many missing values, 99%, so we drop this column"
   ]
  },
  {
   "cell_type": "code",
   "execution_count": null,
   "metadata": {},
   "outputs": [],
   "source": [
    "data = data.drop('car', axis=1)"
   ]
  },
  {
   "cell_type": "code",
   "execution_count": null,
   "metadata": {},
   "outputs": [],
   "source": [
    "# calculate percentage of missing values for each column\n",
    "missing_percentages = data.isna().mean() * 100\n",
    "\n",
    "# create bar plot\n",
    "missing_percentages.plot(kind='bar')\n",
    "plt.ylabel('Percentage of missing values')\n",
    "plt.show()"
   ]
  },
  {
   "cell_type": "markdown",
   "metadata": {},
   "source": [
    "As can be observed, the percentage of missing values is relatively small, below 1.7%, so we can either drop the rows with missing values or impute them with the most frequent value. We will impute them with the most frequent value."
   ]
  },
  {
   "cell_type": "code",
   "execution_count": null,
   "metadata": {},
   "outputs": [],
   "source": [
    "data = data.fillna(data.mode().iloc[0])"
   ]
  },
  {
   "cell_type": "markdown",
   "metadata": {},
   "source": [
    "Let us now observe the importance of each feature from the data"
   ]
  },
  {
   "cell_type": "code",
   "execution_count": null,
   "metadata": {},
   "outputs": [],
   "source": [
    "X = data.drop(\"Y\", axis=1)\n",
    "y = data[\"Y\"]"
   ]
  },
  {
   "cell_type": "code",
   "execution_count": null,
   "metadata": {},
   "outputs": [],
   "source": [
    "categorical_cols = X.select_dtypes(include=['object']).columns\n",
    "\n",
    "categorical_cols"
   ]
  },
  {
   "cell_type": "markdown",
   "metadata": {},
   "source": [
    "# Chi-Squared test to check for signicance association of each feature"
   ]
  },
  {
   "cell_type": "code",
   "execution_count": null,
   "metadata": {},
   "outputs": [],
   "source": [
    "from scipy.stats import chi2_contingency\n",
    "\n",
    "# Dictionary to store p-values for each categorical column\n",
    "p_values = {}\n",
    "\n",
    "for col in categorical_cols:\n",
    "    contingency_table = pd.crosstab(X[col], y)\n",
    "    chi2, p, _, _ = chi2_contingency(contingency_table)\n",
    "    p_values[col] = p\n",
    "\n",
    "# Filter columns with p-value less than 0.05 (indicating statistical significance)\n",
    "significant_features = {k: v for k, v in p_values.items() if v < 0.05}\n",
    "\n",
    "significant_features"
   ]
  },
  {
   "cell_type": "markdown",
   "metadata": {},
   "source": [
    "Note that all p-values are smaller than 0.5, so we can conclude that all features are important for the model."
   ]
  },
  {
   "cell_type": "markdown",
   "metadata": {},
   "source": [
    "# Outliers e Fit distr."
   ]
  },
  {
   "cell_type": "markdown",
   "metadata": {},
   "source": [
    "### Outliers - Categorical\n"
   ]
  },
  {
   "cell_type": "code",
   "execution_count": null,
   "metadata": {},
   "outputs": [],
   "source": [
    "# Diferent categories in time column\n",
    "data['time'].value_counts()\n",
    "plt.figure(figsize=(10, 6))\n",
    "sns.countplot(data=data, x='time', order=data['time'].value_counts().index)\n",
    "plt.title('Distribution of Time')\n",
    "\n",
    "# Frequency of temperature\n",
    "data['temperature'].value_counts()\n",
    "plt.figure(figsize=(10, 6))\n",
    "sns.countplot(data=data, x='temperature', order=data['temperature'].value_counts().index)\n",
    "plt.title('Frequency of Temperature')\n",
    "\n",
    "# Same for expiration\n",
    "data['expiration'].value_counts()\n",
    "plt.figure(figsize=(10, 6))\n",
    "sns.countplot(data=data, x='expiration', order=data['expiration'].value_counts().index)\n",
    "plt.title('Frequency of Expiration')\n",
    "\n",
    "# Same for age\n",
    "data['age'].value_counts()\n",
    "plt.figure(figsize=(10, 6))\n",
    "sns.countplot(data=data, x='age', order=data['age'].value_counts().index)\n",
    "plt.title('Frequency of Age')"
   ]
  },
  {
   "cell_type": "code",
   "execution_count": null,
   "metadata": {},
   "outputs": [],
   "source": [
    "# Data types of the columns\n",
    "data.dtypes\n"
   ]
  },
  {
   "cell_type": "code",
   "execution_count": null,
   "metadata": {},
   "outputs": [],
   "source": [
    "# Frequency and plots for all columns. Plots in one image\n",
    "plt.figure(figsize=(20, 12))\n",
    "\n",
    "# Plotting the distribution of the selected columns\n",
    "for i, column in enumerate(data.columns, 1):\n",
    "    plt.subplot(3, 3, i)\n",
    "    sns.countplot(data=data, x=column, order=data[column].value_counts().index)\n",
    "    plt.title(f'Distribution of {column}')\n",
    "    plt.xlabel('Count')\n",
    "    plt.ylabel(column)\n",
    "    # layout bigger on y axis\n",
    "    plt.tight_layout()\n",
    "    if i == 9:\n",
    "        break\n",
    "\n",
    "plt.show()"
   ]
  },
  {
   "cell_type": "code",
   "execution_count": null,
   "metadata": {},
   "outputs": [],
   "source": [
    "# frequency of occupation\n",
    "data['occupation'].value_counts()\n"
   ]
  },
  {
   "cell_type": "code",
   "execution_count": null,
   "metadata": {},
   "outputs": [],
   "source": [
    "# Frequency analysis for each categorical variable\n",
    "potential_outliers = {}\n",
    "\n",
    "for column in data.columns:\n",
    "    # Count the occurrences of each category in the column\n",
    "    value_counts = data[column].value_counts(normalize=True)\n",
    "    \n",
    "    # Consider categories with less than a certain threshold (e.g., 1% for this example) as potential outliers\n",
    "    outliers = value_counts[value_counts < 0.02].index.tolist()\n",
    "    \n",
    "    if outliers:\n",
    "        potential_outliers[column] = outliers\n",
    "\n",
    "potential_outliers"
   ]
  },
  {
   "cell_type": "code",
   "execution_count": null,
   "metadata": {},
   "outputs": [],
   "source": [
    "#ignore warnings\n",
    "import warnings\n",
    "warnings.filterwarnings('ignore')\n",
    "\n",
    "# 1. Bar Plots\n",
    "plt.figure(figsize=(20, 15))\n",
    "for i, column in enumerate(data.columns, 1):\n",
    "    plt.subplot(6, 5, i)\n",
    "    sns.countplot(data[column])\n",
    "    plt.xticks(rotation=90)\n",
    "    plt.ylabel(\"\")\n",
    "    plt.title(column)\n",
    "\n",
    "plt.tight_layout()\n",
    "plt.show()"
   ]
  },
  {
   "cell_type": "code",
   "execution_count": null,
   "metadata": {},
   "outputs": [],
   "source": [
    "# One class svm\n",
    "\n",
    "from sklearn.preprocessing import OneHotEncoder\n",
    "from sklearn.svm import OneClassSVM\n",
    "from sklearn.ensemble import IsolationForest\n",
    "\n",
    "# One-hot encode the data\n",
    "encoder = OneHotEncoder()\n",
    "data_encoded = encoder.fit_transform(data)\n",
    "\n",
    "# One-Class SVM\n",
    "oc_svm = OneClassSVM(nu=0.05, kernel=\"rbf\")\n",
    "oc_svm_labels = oc_svm.fit_predict(data_encoded)\n",
    "\n",
    "# Isolation Forest\n",
    "iso_forest = IsolationForest(contamination=0.05)\n",
    "iso_forest_labels = iso_forest.fit_predict(data_encoded)\n",
    "\n",
    "# Convert labels from (-1,1) to (0,1) for consistency\n",
    "oc_svm_labels = (oc_svm_labels + 1) // 2\n",
    "iso_forest_labels = (iso_forest_labels + 1) // 2\n",
    "\n",
    "oc_svm_labels, iso_forest_labels\n",
    "\n",
    "# count outliers for each model\n",
    "oc_svm_outliers = sum(oc_svm_labels == 0)\n",
    "iso_forest_outliers = sum(iso_forest_labels == 0)\n",
    "\n",
    "oc_svm_outliers, iso_forest_outliers"
   ]
  },
  {
   "cell_type": "code",
   "execution_count": null,
   "metadata": {},
   "outputs": [],
   "source": [
    "import matplotlib.pyplot as plt\n",
    "\n",
    "# Plotting the results of One-Class SVM with values within "
   ]
  },
  {
   "cell_type": "markdown",
   "metadata": {},
   "source": [
    "### K-modes"
   ]
  },
  {
   "cell_type": "code",
   "execution_count": null,
   "metadata": {},
   "outputs": [],
   "source": [
    "# import data\n",
    "data2 = pd.read_csv('in-vehicle-coupon-recommendation.csv')"
   ]
  },
  {
   "cell_type": "markdown",
   "metadata": {},
   "source": [
    "### DBSCAN"
   ]
  },
  {
   "cell_type": "markdown",
   "metadata": {},
   "source": [
    "### Balance\n"
   ]
  },
  {
   "cell_type": "code",
   "execution_count": null,
   "metadata": {},
   "outputs": [],
   "source": [
    "# Specify the order for countplot based on the index of percentage (which comes from value_counts)\n",
    "order = percentage.index\n",
    "\n",
    "# Plot\n",
    "plt.figure(figsize=(10, 6))\n",
    "ax = sns.countplot(x=data['Y'], order=order)\n",
    "plt.title('Distribution of Y')\n",
    "plt.xlabel('Y')\n",
    "plt.ylabel('Frequency')\n",
    "\n",
    "# Add percentage text on top of each bar\n",
    "for p, value in zip(ax.patches, percentage):\n",
    "    ax.annotate(f'{value:.2f}%', (p.get_x() + p.get_width() / 2., p.get_height()), ha='center', va='center', xytext=(0, 10), textcoords='offset points')\n",
    "\n",
    "plt.show()\n",
    "\n",
    "\n"
   ]
  },
  {
   "cell_type": "markdown",
   "metadata": {},
   "source": [
    "### Cramers correlation"
   ]
  },
  {
   "cell_type": "code",
   "execution_count": null,
   "metadata": {},
   "outputs": [],
   "source": [
    "import numpy as np\n",
    "from scipy.stats import chi2_contingency\n",
    "\n",
    "# load data\n",
    "data_correlation = pd.read_csv('in-vehicle-coupon-recommendation.csv')\n",
    "\n",
    "def cramers_v(x, y):\n",
    "    \"\"\"Compute Cramér's V statistic for categorial-categorial association.\"\"\"\n",
    "    confusion_matrix = pd.crosstab(x, y)\n",
    "    chi2 = chi2_contingency(confusion_matrix)[0]\n",
    "    n = confusion_matrix.sum().sum()\n",
    "    phi2 = chi2 / n\n",
    "    r, k = confusion_matrix.shape\n",
    "    phi2corr = max(0, phi2 - ((k-1)*(r-1)) / (n-1))\n",
    "    rcorr = r - ((r-1)**2) / (n-1)\n",
    "    kcorr = k - ((k-1)**2) / (n-1)\n",
    "    return np.sqrt(phi2corr / min((kcorr-1), (rcorr-1)))\n",
    "\n",
    "\n",
    "# Remove 'car' column as it was previously dropped\n",
    "data_correlation = data_correlation.drop(columns=['car'])\n",
    "\n",
    "# Remove toCoupon_GEQ5min column beacuse it all 1\n",
    "data_correlation = data_correlation.drop(columns=['toCoupon_GEQ5min'])\n",
    "\n",
    "# Compute the correlation matrix using Cramér's V\n",
    "corr_matrix = pd.DataFrame(index=data_correlation.columns, columns=data_correlation.columns)\n",
    "\n",
    "for col1 in data_correlation.columns:\n",
    "    for col2 in data_correlation.columns:\n",
    "        corr_matrix.loc[col1, col2] = cramers_v(data_correlation[col1], data_correlation[col2])\n",
    "\n",
    "corr_matrix = corr_matrix.astype(float)  # Convert to float for heatmap plotting\n",
    "corr_matrix"
   ]
  },
  {
   "cell_type": "code",
   "execution_count": null,
   "metadata": {},
   "outputs": [],
   "source": [
    "# Plotting the correlation matrix using a heatmap\n",
    "plt.figure(figsize=(20, 15))\n",
    "sns.heatmap(corr_matrix, annot=True, fmt=\".2f\", cmap=\"coolwarm\", cbar=True, square=True)\n",
    "plt.title(\"Cramér's V Correlation Matrix\")\n",
    "plt.tight_layout()\n",
    "plt.show()"
   ]
  },
  {
   "cell_type": "code",
   "execution_count": null,
   "metadata": {},
   "outputs": [],
   "source": [
    "# remove direction_opp column\n",
    "data_correlation = data_correlation.drop(columns=['direction_opp'])\n",
    "\n",
    "#Graph with values above 0.3 or bellow -0.3\n",
    "plt.figure(figsize=(20, 15))\n",
    "sns.heatmap(corr_matrix[(corr_matrix >= 0.3) | (corr_matrix <= -0.3)], annot=True, fmt=\".2f\", cmap=\"coolwarm\", cbar=True, square=True)\n",
    "plt.title(\"Cramér's V Correlation Matrix\")\n",
    "plt.tight_layout()\n",
    "plt.show()\n"
   ]
  },
  {
   "cell_type": "code",
   "execution_count": null,
   "metadata": {},
   "outputs": [],
   "source": [
    "# Filter the correlation matrix to only show values above 0.3\n",
    "filtered_corr_matrix = corr_matrix[corr_matrix >= 0.3].replace(np.nan, 0)\n",
    "\n",
    "# Plotting the filtered correlation matrix using a heatmap\n",
    "plt.figure(figsize=(20, 15))\n",
    "sns.heatmap(filtered_corr_matrix, annot=True, fmt=\".2f\", cmap=\"coolwarm\", cbar=True, square=True)\n",
    "plt.title(\"Cramér's V Correlation Matrix (Above 0.3)\")\n",
    "plt.tight_layout()\n",
    "plt.show()"
   ]
  },
  {
   "cell_type": "code",
   "execution_count": null,
   "metadata": {},
   "outputs": [],
   "source": [
    "# Compute the Cramér's V correlation matrix again\n",
    "corr_matrix = pd.DataFrame(index=data.columns, columns=data.columns)\n",
    "\n",
    "for col1 in data.columns:\n",
    "    for col2 in data.columns:\n",
    "        corr_matrix.loc[col1, col2] = cramers_v(data[col1], data[col2])\n",
    "\n",
    "corr_matrix = corr_matrix.astype(float)\n",
    "\n",
    "# Filter the correlation matrix to only show values above 0.3\n",
    "strong_associations = corr_matrix[corr_matrix >= 0.3].stack().reset_index()\n",
    "strong_associations.columns = ['Variable 1', 'Variable 2', 'Cramers V']\n",
    "strong_associations = strong_associations[strong_associations['Variable 1'] != strong_associations['Variable 2']]  # Exclude self-correlations\n",
    "\n",
    "strong_associations"
   ]
  },
  {
   "cell_type": "code",
   "execution_count": null,
   "metadata": {},
   "outputs": [],
   "source": [
    "# remove direction_opp column from strong associations\n",
    "strong_associations = strong_associations[strong_associations['Variable 1'] != 'direction_opp']\n",
    "strong_associations = strong_associations[strong_associations['Variable 2'] != 'direction_opp']\n",
    "\n",
    "# remove duplicates in Cranmers V\n",
    "strong_associations = strong_associations.drop_duplicates(subset=['Cramers V'])\n",
    "\n",
    "# sort values by Cranmers V\n",
    "strong_associations = strong_associations.sort_values(by=['Cramers V'], ascending=False)\n",
    "\n",
    "strong_associations\n",
    "\n"
   ]
  },
  {
   "cell_type": "code",
   "execution_count": null,
   "metadata": {},
   "outputs": [],
   "source": [
    "import networkx as nx\n",
    "import matplotlib.pyplot as plt\n",
    "\n",
    "# Data\n",
    "correlation_data = [\n",
    "    (\"time\", \"destination\", 0.844731),\n",
    "    (\"destination\", \"time\", 0.844731),\n",
    "    (\"weather\", \"temperature\", 0.626247),\n",
    "    (\"maritalStatus\", \"has_children\", 0.570949),\n",
    "    (\"destination\", \"passanger\", 0.538184),\n",
    "    (\"destination\", \"direction_same\", 0.524008),\n",
    "    (\"has_children\", \"age\", 0.490519),\n",
    "    (\"age\", \"has_children\", 0.490519),\n",
    "    (\"destination\", \"toCoupon_GEQ25min\", 0.415533),\n",
    "    (\"time\", \"toCoupon_GEQ25min\", 0.392883),\n",
    "    (\"time\", \"direction_same\", 0.388690),\n",
    "    (\"passanger\", \"direction_same\", 0.383820),\n",
    "    (\"passanger\", \"has_children\", 0.361300),\n",
    "    (\"occupation\", \"gender\", 0.354128),\n",
    "    (\"gender\", \"occupation\", 0.354128),\n",
    "    (\"passanger\", \"time\", 0.352923),\n",
    "    (\"age\", \"occupation\", 0.341370),\n",
    "    (\"toCoupon_GEQ15min\", \"toCoupon_GEQ25min\", 0.324630),\n",
    "    (\"has_children\", \"occupation\", 0.322413),\n",
    "    (\"toCoupon_GEQ15min\", \"direction_same\", 0.303222)\n",
    "]\n",
    "\n",
    "# Importing necessary libraries and reconstructing the graph\n",
    "import networkx as nx\n",
    "import matplotlib.pyplot as plt\n",
    "\n",
    "# Increasing the optimal distance between nodes for more spacing.\n",
    "pos = nx.spring_layout(G, k=0.8)  # Adjusting k to 0.8\n",
    "\n",
    "plt.figure(figsize=(20, 15))\n",
    "# Drawing nodes with distinct colors\n",
    "nx.draw_networkx_nodes(G, pos, node_color='skyblue', node_size=1200, edgecolors='black')\n",
    "nx.draw_networkx_labels(G, pos, font_size=12, font_weight='bold')\n",
    "\n",
    "# Drawing edges with adjusted transparency\n",
    "edges = nx.draw_networkx_edges(G, pos, width=edge_widths, alpha=0.4, edge_color='gray')\n",
    "\n",
    "# Adjusting edge label position for better clarity\n",
    "for (u, v), label in edge_labels.items():\n",
    "    x = (pos[u][0] + pos[v][0]) / 2\n",
    "    y = (pos[u][1] + pos[v][1]) / 2 - 0.05  # Adjusting y to shift label down a bit\n",
    "    plt.text(x, y, f\"{label:.2f}\", horizontalalignment='center', verticalalignment='center', fontsize=12, bbox=dict(facecolor='white', edgecolor='none', boxstyle=\"round,pad=0.2\"))\n",
    "\n",
    "plt.title(\"Network Graph of Variables with Cramér's V > 0.3\")\n",
    "plt.axis('off')  # Turn off the axis\n",
    "plt.tight_layout()\n",
    "plt.show()\n"
   ]
  },
  {
   "cell_type": "markdown",
   "metadata": {},
   "source": [
    "# New\n"
   ]
  },
  {
   "cell_type": "code",
   "execution_count": null,
   "metadata": {},
   "outputs": [],
   "source": [
    "import pandas as pd\n",
    "import numpy as np\n",
    "import matplotlib.pyplot as plt\n",
    "import seaborn as sns"
   ]
  },
  {
   "cell_type": "code",
   "execution_count": null,
   "metadata": {},
   "outputs": [],
   "source": [
    "# load data\n",
    "df = pd.read_csv('in-vehicle-coupon-recommendation.csv')\n"
   ]
  },
  {
   "cell_type": "code",
   "execution_count": null,
   "metadata": {},
   "outputs": [],
   "source": [
    "# Show index of duplicates\n",
    "df_duplicate_analisys = df[df.duplicated(keep=False)]\n",
    "\n",
    "def remove_dup(df: pd.DataFrame):\n",
    "    # Now remove duplicates\n",
    "    df = df.drop_duplicates()\n",
    "    return df\n"
   ]
  },
  {
   "cell_type": "code",
   "execution_count": null,
   "metadata": {},
   "outputs": [],
   "source": [
    "# Value mapping\n",
    "\n",
    "def value_mapping(df: pd.DataFrame):\n",
    "    frequency_map = {'never': 0,'less1': 1,'1~3': 2,'4~8': 3,'gt8': 4}\n",
    "    age_map = {'below21': 0,'21': 1,'26': 2,'31': 3,'36': 4,'41': 5,'46': 6,'50plus': 7}\n",
    "    income_map = {'Less than $12500': 0,'$12500 - $24999': 1,'$25000 - $37499': 2,'$37500 - $49999': 3,\n",
    "    '$50000 - $62499': 4,'$62500 - $74999': 5,'$75000 - $87499': 6,'$87500 - $99999': 7,'$100000 or More': 8}\n",
    "    temperature_map = {30: 0,55: 1,80: 2}\n",
    "\n",
    "    # CoffeeHouse, CarryAway, RestaurantLessThan20, Restaurant20To50, Bar\n",
    "    df['CoffeeHouse'] = df['CoffeeHouse'].map(frequency_map)\n",
    "    df['CarryAway'] = df['CarryAway'].map(frequency_map)\n",
    "    df['RestaurantLessThan20'] = df['RestaurantLessThan20'].map(frequency_map)\n",
    "    df['Restaurant20To50'] = df['Restaurant20To50'].map(frequency_map)\n",
    "    df['Bar'] = df['Bar'].map(frequency_map)\n",
    "\n",
    "    #age\n",
    "    df['age'] = df['age'].map(age_map)\n",
    "\n",
    "    #income \n",
    "    df['income'] = df['income'].map(income_map)\n",
    "\n",
    "    #temperature\n",
    "    df['temperature'] = df['temperature'].map(temperature_map)\n",
    "\n",
    "    return df\n"
   ]
  },
  {
   "cell_type": "code",
   "execution_count": null,
   "metadata": {},
   "outputs": [],
   "source": [
    "# Drop columns\n",
    "\n",
    "def drop_columns(df: pd.DataFrame):\n",
    "    df = df.drop(columns=['car'])\n",
    "    #df = df.drop(columns=['toCoupon_GEQ5min'])\n",
    "    df = df.drop(columns=['direction_opp'])\n",
    "    return df"
   ]
  },
  {
   "cell_type": "code",
   "execution_count": null,
   "metadata": {},
   "outputs": [],
   "source": [
    "# combine toCoupon_GEQ5min’, toCoupon_GEQ15min’ and ‘toCoupon_GEQ25min’ into one column 0, 1, 2 values\n",
    "\n",
    "#0: driving distance is less than or equal to 15 min\n",
    "#1: driving distance is greater than 15 min and less than or equal to 25 min\n",
    "#2: driving distance is greater than 25 min\n",
    "\n",
    "def combine_distance_columns(df):\n",
    "    \"\"\"\n",
    "    Combine 'toCoupon_GEQ5min', 'toCoupon_GEQ15min', and 'toCoupon_GEQ25min' \n",
    "    columns into a single column 'to_coupon'.\n",
    "    \n",
    "    Parameters:\n",
    "    - df (pd.DataFrame): The input dataframe\n",
    "    \n",
    "    Returns:\n",
    "    - df (pd.DataFrame): The modified dataframe with the 'to_coupon' column\n",
    "    \"\"\"\n",
    "    \n",
    "    def assign_to_coupon(row):\n",
    "        if row['toCoupon_GEQ25min'] == 1:\n",
    "            return 2\n",
    "        elif row['toCoupon_GEQ15min'] == 1:\n",
    "            return 1\n",
    "        else:\n",
    "            return 0\n",
    "\n",
    "    # add the new column at penultimate position (before 'Y')\n",
    "    df.insert(len(df.columns) - 1, 'to_coupon', np.nan)\n",
    "    df['to_coupon'] = df.apply(assign_to_coupon, axis=1)\n",
    "\n",
    "    # Drop the original columns\n",
    "    df.drop(['toCoupon_GEQ5min', 'toCoupon_GEQ15min', 'toCoupon_GEQ25min'], axis=1, inplace=True)\n",
    "    \n",
    "    return df\n"
   ]
  },
  {
   "cell_type": "code",
   "execution_count": null,
   "metadata": {},
   "outputs": [],
   "source": [
    "df_test1 = df.copy()\n",
    "\n",
    "df_test1 = remove_dup(df_test1)\n",
    "df_test1 = value_mapping(df_test1)\n",
    "df_test1 = drop_columns(df_test1)\n",
    "df_test1 = combine_distance_columns(df_test1)"
   ]
  },
  {
   "cell_type": "markdown",
   "metadata": {},
   "source": [
    "# 21 de outubro\n"
   ]
  },
  {
   "cell_type": "code",
   "execution_count": 32,
   "metadata": {},
   "outputs": [],
   "source": [
    "# Load data\n",
    "df_clean = pd.read_csv('cleaned_in-vehicle-coupon-recommendation.csv')"
   ]
  },
  {
   "cell_type": "code",
   "execution_count": 33,
   "metadata": {},
   "outputs": [
    {
     "data": {
      "text/plain": [
       "destination               0\n",
       "passanger                 0\n",
       "weather                   0\n",
       "temperature               0\n",
       "time                      0\n",
       "coupon                    0\n",
       "expiration                0\n",
       "gender                    0\n",
       "age                       0\n",
       "maritalStatus             0\n",
       "has_children              0\n",
       "education                 0\n",
       "occupation                0\n",
       "income                    0\n",
       "Bar                     107\n",
       "CoffeeHouse             217\n",
       "CarryAway               150\n",
       "RestaurantLessThan20    129\n",
       "Restaurant20To50        189\n",
       "direction_same            0\n",
       "to_coupon                 0\n",
       "Y                         0\n",
       "dtype: int64"
      ]
     },
     "execution_count": 33,
     "metadata": {},
     "output_type": "execute_result"
    }
   ],
   "source": [
    "# show missing values per column\n",
    "df_clean.isna().sum() "
   ]
  },
  {
   "cell_type": "code",
   "execution_count": 34,
   "metadata": {},
   "outputs": [],
   "source": [
    "# Bar, CoffeeHouse, CarryAway, RestaurantLessThan20, Restaurant20To50 intercepted NAN\n",
    "# Get index of NAN values of BAR column\n",
    "index_bar = df_clean[df_clean['Bar'].isna()].index.tolist()\n",
    "index_coffeehouse = df_clean[df_clean['CoffeeHouse'].isna()].index.tolist()\n",
    "index_carryaway = df_clean[df_clean['CarryAway'].isna()].index.tolist()\n",
    "index_restaurantless20 = df_clean[df_clean['RestaurantLessThan20'].isna()].index.tolist()\n",
    "index_restaurant20to50 = df_clean[df_clean['Restaurant20To50'].isna()].index.tolist()\n",
    "\n",
    "# Intersect all indexes\n",
    "index_intercept_NAN = list(set(index_bar) & set(index_coffeehouse) & set(index_carryaway) & set(index_restaurantless20) & set(index_restaurant20to50))\n"
   ]
  },
  {
   "cell_type": "code",
   "execution_count": 35,
   "metadata": {},
   "outputs": [],
   "source": [
    "# Drop rows with NAN values\n",
    "df_clean = df_clean.drop(index_intercept_NAN)"
   ]
  },
  {
   "cell_type": "code",
   "execution_count": 36,
   "metadata": {},
   "outputs": [],
   "source": [
    "columns_to_impute = ['Bar', 'CoffeeHouse', 'CarryAway', 'RestaurantLessThan20', 'Restaurant20To50']\n",
    "# get columns and subtract columns to impute\n",
    "columns_to_dummy = list(set(df_clean.columns) - set(columns_to_impute))\n",
    "\n",
    "# Pass nominal columns to dummy variables\n",
    "df_clean_dummies = pd.get_dummies(df_clean, columns=columns_to_dummy, drop_first=True)\n",
    "\n"
   ]
  },
  {
   "cell_type": "code",
   "execution_count": 37,
   "metadata": {},
   "outputs": [
    {
     "data": {
      "text/plain": [
       "destination             0\n",
       "passanger               0\n",
       "weather                 0\n",
       "temperature             0\n",
       "time                    0\n",
       "coupon                  0\n",
       "expiration              0\n",
       "gender                  0\n",
       "age                     0\n",
       "maritalStatus           0\n",
       "has_children            0\n",
       "education               0\n",
       "occupation              0\n",
       "income                  0\n",
       "Bar                     0\n",
       "CoffeeHouse             0\n",
       "CarryAway               0\n",
       "RestaurantLessThan20    0\n",
       "Restaurant20To50        0\n",
       "direction_same          0\n",
       "to_coupon               0\n",
       "Y                       0\n",
       "dtype: int64"
      ]
     },
     "execution_count": 37,
     "metadata": {},
     "output_type": "execute_result"
    }
   ],
   "source": [
    "from sklearn.tree import DecisionTreeClassifier\n",
    "\n",
    "# Columns to impute\n",
    "columns_to_impute = ['Bar', 'CoffeeHouse', 'CarryAway', 'RestaurantLessThan20', 'Restaurant20To50']\n",
    "\n",
    "# Function to impute missing values using Decision Trees\n",
    "def impute_with_decision_tree(data, column_to_impute, features):\n",
    "    # Split data into train and predict sets\n",
    "    train_data = data[data[column_to_impute].notna()]\n",
    "    predict_data = data[data[column_to_impute].isna()]\n",
    "    \n",
    "    # Train a decision tree classifier\n",
    "    clf = DecisionTreeClassifier()\n",
    "    clf.fit(train_data[features], train_data[column_to_impute])\n",
    "    \n",
    "    # Predict missing values\n",
    "    if not predict_data.empty:\n",
    "        predicted_values = clf.predict(predict_data[features])\n",
    "        data.loc[data[column_to_impute].isna(), column_to_impute] = predicted_values\n",
    "\n",
    "    return data\n",
    "\n",
    "# Features to use for imputation\n",
    "features = df_clean_dummies.drop(columns=columns_to_impute).columns.tolist()\n",
    "\n",
    "# Impute missing values for each column\n",
    "for column in columns_to_impute:\n",
    "    df_clean_dummies = impute_with_decision_tree(df_clean_dummies, column, features)\n",
    "\n",
    "# Now substitute NAN values with the values imputeted in df_clean_dummies in df_clean\n",
    "df_clean['Bar'] = df_clean_dummies['Bar']\n",
    "df_clean['CoffeeHouse'] = df_clean_dummies['CoffeeHouse']\n",
    "df_clean['CarryAway'] = df_clean_dummies['CarryAway']\n",
    "df_clean['RestaurantLessThan20'] = df_clean_dummies['RestaurantLessThan20']\n",
    "df_clean['Restaurant20To50'] = df_clean_dummies['Restaurant20To50']\n",
    "\n",
    "# Check if there are still NAN values\n",
    "df_clean.isna().sum()\n",
    "\n"
   ]
  },
  {
   "cell_type": "code",
   "execution_count": 38,
   "metadata": {},
   "outputs": [],
   "source": [
    "# save df_clean to csv\n",
    "df_clean.to_csv('cleaned_in-vehicle-coupon-recommendation.csv', index=False)\n"
   ]
  },
  {
   "cell_type": "code",
   "execution_count": 44,
   "metadata": {},
   "outputs": [],
   "source": [
    "### Análise de correlação:\n",
    "# Para Y nominal: \n",
    "# X nominal -> Chi Square\n",
    "# X ordinal -> Rank Biserial e Mc Nemar \n",
    "\n",
    "# load dataframe\n",
    "df_correlation = pd.read_csv('cleaned_in-vehicle-coupon-recommendation.csv')\n",
    "\n",
    "# get columns\n",
    "columns = df_correlation.columns.tolist()\n",
    "\n",
    "ordinal_col = ['temperature', 'age', 'income', 'Bar', 'CoffeeHouse', 'CarryAway', 'RestaurantLessThan20', 'Restaurant20To50']\n",
    "nominal_col = ['coupon', 'destination', 'direction_same', 'education', 'expiration', 'gender', 'has_children', 'maritalStatus', 'occupation', 'passanger', 'time', 'to_coupon', 'weather']\n",
    "\n",
    "#df_correlation_nominal = df_correlation[nominal_col]\n",
    "#df_correlation_ordinal = df_correlation[ordinal_col]\n"
   ]
  },
  {
   "cell_type": "code",
   "execution_count": 52,
   "metadata": {},
   "outputs": [
    {
     "name": "stdout",
     "output_type": "stream",
     "text": [
      "coupon vs Y: p-value = 3.7649233133801385e-185\n",
      "destination vs Y: p-value = 3.8593669061339367e-48\n",
      "direction_same vs Y: p-value = 0.08832694614353964\n",
      "education vs Y: p-value = 3.568168944964e-08\n",
      "expiration vs Y: p-value = 2.512008227536544e-47\n",
      "gender vs Y: p-value = 1.3821442029005552e-06\n",
      "has_children vs Y: p-value = 4.747748604153746e-07\n",
      "maritalStatus vs Y: p-value = 6.949752357113396e-10\n",
      "occupation vs Y: p-value = 4.494952034979511e-15\n",
      "passanger vs Y: p-value = 2.5715647815461032e-48\n",
      "time vs Y: p-value = 3.3209438298638036e-37\n",
      "to_coupon vs Y: p-value = 1.219886906615028e-39\n",
      "weather vs Y: p-value = 2.46578755455555e-29\n"
     ]
    }
   ],
   "source": [
    "# Correlation Chi Square of Y with X nominal  \n",
    "\n",
    "import pandas as pd\n",
    "from scipy.stats import chi2_contingency\n",
    "\n",
    "# Empty dictionary to store the p-values\n",
    "chi2_results = {}\n",
    "\n",
    "for var in nominal_col:\n",
    "    # Constructing a contingency table\n",
    "    contingency_table = pd.crosstab(df_correlation[var], df_correlation['Y'])\n",
    "    \n",
    "    # Performing the chi2 test\n",
    "    chi2, p, _, _ = chi2_contingency(contingency_table)\n",
    "    \n",
    "    # Storing the p-value in the dictionary\n",
    "    chi2_results[var] = p\n",
    "\n",
    "# Displaying the results\n",
    "for var, p in chi2_results.items():\n",
    "    print(f\"{var} vs Y: p-value = {p}\")\n"
   ]
  },
  {
   "cell_type": "code",
   "execution_count": 53,
   "metadata": {},
   "outputs": [
    {
     "data": {
      "image/png": "[encoded data removed]",
      "text/plain": [
       "<Figure size 720x432 with 1 Axes>"
      ]
     },
     "metadata": {
      "needs_background": "light"
     },
     "output_type": "display_data"
    }
   ],
   "source": [
    "# Plot the results\n",
    "import matplotlib.pyplot as plt\n",
    "import seaborn as sns\n",
    "\n",
    "# Convert the dictionary into a dataframe\n",
    "chi2_results_df = pd.DataFrame.from_dict(chi2_results, orient='index', columns=['p-value'])\n",
    "\n",
    "# Sort the dataframe by p-value\n",
    "chi2_results_df.sort_values(by='p-value', ascending=False, inplace=True)\n",
    "\n",
    "# Plot the p-values\n",
    "plt.figure(figsize=(10, 6))\n",
    "sns.barplot(x=chi2_results_df.index, y='p-value', data=chi2_results_df)\n",
    "plt.xticks(rotation=90)\n",
    "plt.title('Chi2 Test Results')\n",
    "plt.ylabel('p-value')\n",
    "plt.show()"
   ]
  },
  {
   "cell_type": "code",
   "execution_count": 55,
   "metadata": {},
   "outputs": [
    {
     "name": "stdout",
     "output_type": "stream",
     "text": [
      "Rank Biserial correlation between temperature and Y: 0.0329\n",
      "Rank Biserial correlation between age and Y: -0.0351\n",
      "Rank Biserial correlation between income and Y: -0.0161\n",
      "Rank Biserial correlation between Bar and Y: 0.0421\n",
      "Rank Biserial correlation between CoffeeHouse and Y: 0.0691\n",
      "Rank Biserial correlation between CarryAway and Y: 0.0200\n",
      "Rank Biserial correlation between RestaurantLessThan20 and Y: 0.0243\n",
      "Rank Biserial correlation between Restaurant20To50 and Y: 0.0381\n"
     ]
    }
   ],
   "source": [
    "from scipy.stats import rankdata\n",
    "\n",
    "def rank_biserial_correlation(df, ordinal_var, binary_var='Y'):\n",
    "    # Rank the ordinal variable\n",
    "    ranked = rankdata(df[ordinal_var])\n",
    "    \n",
    "    # Compute means of the ranked data for each group in the binary variable\n",
    "    rank_mean_0 = ranked[df[binary_var] == 0].mean()\n",
    "    rank_mean_1 = ranked[df[binary_var] == 1].mean()\n",
    "    \n",
    "    # Compute Rank Biserial correlation\n",
    "    n_0 = (df[binary_var] == 0).sum()\n",
    "    n_1 = (df[binary_var] == 1).sum()\n",
    "    \n",
    "    r = (rank_mean_1 - rank_mean_0) / (n_0 + n_1)\n",
    "    \n",
    "    return r\n",
    "\n",
    "# Applying the function to the specified ordinal columns\n",
    "ordinal_col = ['temperature', 'age', 'income', 'Bar', 'CoffeeHouse', 'CarryAway', 'RestaurantLessThan20', 'Restaurant20To50']\n",
    "for col in ordinal_col:\n",
    "    r = rank_biserial_correlation(df_correlation, col)\n",
    "    print(f\"Rank Biserial correlation between {col} and Y: {r:.4f}\")\n"
   ]
  },
  {
   "cell_type": "code",
   "execution_count": 56,
   "metadata": {},
   "outputs": [
    {
     "data": {
      "image/png": "[encoded data removed]",
      "text/plain": [
       "<Figure size 720x432 with 1 Axes>"
      ]
     },
     "metadata": {
      "needs_background": "light"
     },
     "output_type": "display_data"
    }
   ],
   "source": [
    "# Plot the results\n",
    "import matplotlib.pyplot as plt\n",
    "import seaborn as sns\n",
    "\n",
    "# Empty dictionary to store the Rank Biserial correlation values\n",
    "rank_biserial_results = {}\n",
    "\n",
    "# Applying the function to the specified ordinal columns\n",
    "ordinal_col = ['temperature', 'age', 'income', 'Bar', 'CoffeeHouse', 'CarryAway', 'RestaurantLessThan20', 'Restaurant20To50']\n",
    "for col in ordinal_col:\n",
    "    r = rank_biserial_correlation(df_correlation, col)\n",
    "    rank_biserial_results[col] = r\n",
    "\n",
    "# Convert the dictionary into a dataframe\n",
    "rank_biserial_results_df = pd.DataFrame.from_dict(rank_biserial_results, orient='index', columns=['Rank Biserial Correlation'])\n",
    "\n",
    "# Sort the dataframe by Rank Biserial correlation\n",
    "rank_biserial_results_df.sort_values(by='Rank Biserial Correlation', ascending=False, inplace=True)\n",
    "\n",
    "# Plot the Rank Biserial correlation\n",
    "plt.figure(figsize=(10, 6))\n",
    "sns.barplot(x=rank_biserial_results_df.index, y='Rank Biserial Correlation', data=rank_biserial_results_df)\n",
    "plt.xticks(rotation=90)\n",
    "plt.title('Rank Biserial Correlation')\n",
    "plt.ylabel('Correlation')\n",
    "plt.show()\n",
    "\n"
   ]
  }
 ],
 "metadata": {
  "kernelspec": {
   "display_name": "base",
   "language": "python",
   "name": "python3"
  },
  "language_info": {
   "codemirror_mode": {
    "name": "ipython",
    "version": 3
   },
   "file_extension": ".py",
   "mimetype": "text/x-python",
   "name": "python",
   "nbconvert_exporter": "python",
   "pygments_lexer": "ipython3",
   "version": "3.9.12"
  },
  "orig_nbformat": 4
 },
 "nbformat": 4,
 "nbformat_minor": 2
}
